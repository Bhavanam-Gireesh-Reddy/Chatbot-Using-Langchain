{
 "cells": [
  {
   "cell_type": "code",
   "execution_count": 14,
   "id": "6f9787d1-2ab8-464a-a113-888d66c4abea",
   "metadata": {},
   "outputs": [],
   "source": [
    "import os\n",
    "import requests\n",
    "from dotenv import load_dotenv\n",
    "from langchain.chains import ConversationalRetrievalChain\n",
    "from langchain.memory import ConversationBufferMemory\n",
    "# Changed import for Groq\n",
    "from langchain_groq import ChatGroq\n",
    "from langchain_core.prompts import PromptTemplate\n",
    "from langchain.agents import AgentExecutor, Tool, create_react_agent\n",
    "from langchain_core.messages import AIMessage, HumanMessage\n",
    "# Import for SerperDevTool\n",
    "from langchain_community.utilities import GoogleSerperAPIWrapper"
   ]
  },
  {
   "cell_type": "code",
   "execution_count": 15,
   "id": "745ea8dd-5ede-4479-b277-ea9d0d242980",
   "metadata": {},
   "outputs": [
    {
     "data": {
      "text/plain": [
       "True"
      ]
     },
     "execution_count": 15,
     "metadata": {},
     "output_type": "execute_result"
    }
   ],
   "source": [
    "load_dotenv()"
   ]
  },
  {
   "cell_type": "code",
   "execution_count": 16,
   "id": "2b9385c1-ae1f-4a66-a42d-82254909acfa",
   "metadata": {},
   "outputs": [],
   "source": [
    "# --- Configuration (User needs to fill these in their environment) ---\n",
    "# Load API keys from environment variables\n",
    "GROQ_API_KEY = os.getenv(\"GROQ_API_KEY\")\n",
    "OPENWEATHER_API_KEY = os.getenv(\"OPENWEATHER_API_KEY\")\n",
    "SERPER_API_KEY = os.getenv(\"SERPER_API_KEY\") # New API Key for Serper"
   ]
  },
  {
   "cell_type": "code",
   "execution_count": 17,
   "id": "efca4bf2-1dfc-4a68-9d61-be5efc79242b",
   "metadata": {},
   "outputs": [],
   "source": [
    "# Llama Model ID (from Groq)\n",
    "LLAMA_MODEL_ID = \"meta-llama/llama-4-scout-17b-16e-instruct\" # A common Llama model on Groq, you can change this if needed"
   ]
  },
  {
   "cell_type": "code",
   "execution_count": 18,
   "id": "65d810bb-104c-4500-b298-34c6d12c4f87",
   "metadata": {},
   "outputs": [],
   "source": [
    "# --- Weather Tool Definition ---\n",
    "def get_current_weather(location: str) -> str:\n",
    "    \"\"\"\n",
    "    Fetches the current weather conditions for a given location using the OpenWeatherMap API.\n",
    "\n",
    "    Args:\n",
    "        location (str): The city name for which to get the weather.\n",
    "\n",
    "    Returns:\n",
    "        str: A string describing the current weather, or an error message.\n",
    "    \"\"\"\n",
    "    if not OPENWEATHER_API_KEY:\n",
    "        return \"OpenWeatherMap API key is not configured. Please set the OPENWEATHER_API_KEY environment variable.\"\n",
    "\n",
    "    base_url = \"http://api.openweathermap.org/data/2.5/weather\"\n",
    "    params = {\n",
    "        \"q\": location,\n",
    "        \"appid\": OPENWEATHER_API_KEY,\n",
    "        \"units\": \"metric\" # You can change to 'imperial' for Fahrenheit\n",
    "    }\n",
    "    try:\n",
    "        response = requests.get(base_url, params=params)\n",
    "        response.raise_for_status() # Raise an HTTPError for bad responses (4xx or 5xx)\n",
    "        data = response.json()\n",
    "\n",
    "        if data.get(\"cod\") == 200:\n",
    "            main_data = data.get(\"main\", {})\n",
    "            weather_data = data.get(\"weather\", [{}])[0]\n",
    "            wind_data = data.get(\"wind\", {})\n",
    "\n",
    "            temperature = main_data.get(\"temp\")\n",
    "            feels_like = main_data.get(\"feels_like\")\n",
    "            humidity = main_data.get(\"humidity\")\n",
    "            description = weather_data.get(\"description\", \"N/A\")\n",
    "            city_name = data.get(\"name\", location)\n",
    "            wind_speed = wind_data.get(\"speed\")\n",
    "\n",
    "            return (\n",
    "                f\"Current weather in {city_name}:\\n\"\n",
    "                f\"Temperature: {temperature}°C (feels like {feels_like}°C)\\n\"\n",
    "                f\"Description: {description}\\n\"\n",
    "                f\"Humidity: {humidity}%\\n\"\n",
    "                f\"Wind speed: {wind_speed} m/s\"\n",
    "            )\n",
    "        else:\n",
    "            return f\"Could not retrieve weather for {location}. Error: {data.get('message', 'Unknown error')}\"\n",
    "    except requests.exceptions.RequestException as e:\n",
    "        return f\"Error connecting to OpenWeatherMap API: {e}\"\n",
    "    except Exception as e:\n",
    "        return f\"An unexpected error occurred: {e}\""
   ]
  },
  {
   "cell_type": "code",
   "execution_count": 19,
   "id": "43bc24ef-6949-4536-8d7f-0051dbee408f",
   "metadata": {},
   "outputs": [],
   "source": [
    "# Define the Langchain Tool\n",
    "weather_tool = Tool(\n",
    "    name=\"get_current_weather\",\n",
    "    func=get_current_weather,\n",
    "    description=\"Useful for getting the current weather in a specified location. Input should be a city name.\",\n",
    ")"
   ]
  },
  {
   "cell_type": "code",
   "execution_count": 22,
   "id": "646a0ee1-4227-49c3-9cdb-cd324bdccedc",
   "metadata": {},
   "outputs": [],
   "source": [
    "# --- NEW: Google Search Tool Definition (Corrected) ---\n",
    "# Initialize the GoogleSerperAPIWrapper\n",
    "serper_search = GoogleSerperAPIWrapper()\n",
    "\n",
    "# Create a Langchain Tool from the GoogleSerperAPIWrapper\n",
    "search_tool = Tool(\n",
    "    name=\"Google Search\",\n",
    "    func=serper_search.run, # Use the .run() method of the wrapper\n",
    "    description=\"Useful for answering general knowledge questions, current events, or anything that requires searching the internet. Input should be a search query.\",\n",
    ")"
   ]
  },
  {
   "cell_type": "code",
   "execution_count": 23,
   "id": "1ca0ffa8-a533-4533-b323-2ec3f40503c5",
   "metadata": {},
   "outputs": [],
   "source": [
    "# --- Chatbot Setup ---\n",
    "\n",
    "# Initialize the Llama model using ChatGroq\n",
    "try:\n",
    "    if not GROQ_API_KEY:\n",
    "        raise ValueError(\"GROQ_API_KEY environment variable is not set. Please configure it.\")\n",
    "\n",
    "    llm = ChatGroq(\n",
    "        temperature=0.7,\n",
    "        model_name=LLAMA_MODEL_ID,\n",
    "        groq_api_key=GROQ_API_KEY\n",
    "    )\n",
    "except ValueError as ve:\n",
    "    print(f\"Configuration Error: {ve}\")\n",
    "    print(\"Using a dummy LLM for demonstration. Please ensure GROQ_API_KEY is set in your environment.\")\n",
    "    # Fallback to a dummy LLM for demonstration if Groq setup fails\n",
    "    from langchain.llms.fake import FakeListLLM\n",
    "    llm = FakeListLLM(responses=[\"Hello, how can I help you?\", \"The weather is sunny.\", \"I remember that.\", \"I can search for that information.\"])\n",
    "except Exception as e:\n",
    "    print(f\"An unexpected error occurred during LLM initialization: {e}\")\n",
    "    print(\"Using a dummy LLM for demonstration. Please check your Groq configuration.\")\n",
    "    from langchain.llms.fake import FakeListLLM\n",
    "    llm = FakeListLLM(responses=[\"Hello, how can I help you?\", \"The weather is sunny.\", \"I remember that.\", \"I can search for that information.\"])"
   ]
  },
  {
   "cell_type": "code",
   "execution_count": 24,
   "id": "00947020-d576-445b-8ceb-e4e95833cee3",
   "metadata": {},
   "outputs": [],
   "source": [
    "# Initialize memory for the chatbot\n",
    "memory = ConversationBufferMemory(memory_key=\"chat_history\", return_messages=True)\n",
    "\n",
    "# Define the prompt for the agent\n",
    "# The prompt instructs the agent on how to use the tools and respond.\n",
    "# It also includes placeholders for the chat history and user input.\n",
    "prompt = PromptTemplate.from_template(\"\"\"\n",
    "You are a helpful AI assistant. You have access to the following tools:\n",
    "{tools}\n",
    "\n",
    "Use the following format:\n",
    "\n",
    "Question: the input question you must answer\n",
    "Thought: you should always think about what to do\n",
    "Action: the action to take, should be one of [{tool_names}]\n",
    "Action Input: the input to the action\n",
    "Observation: the result of the action\n",
    "... (this Thought/Action/Action Input/Observation can repeat N times)\n",
    "Thought: I now know the final answer\n",
    "Final Answer: the final answer to the original input question\n",
    "\n",
    "Begin!\n",
    "\n",
    "{chat_history}\n",
    "Question: {input}\n",
    "{agent_scratchpad}\n",
    "\"\"\")"
   ]
  },
  {
   "cell_type": "code",
   "execution_count": 25,
   "id": "51fa76ae-508c-45d3-95ab-0c80f16e7887",
   "metadata": {},
   "outputs": [],
   "source": [
    "# Create the agent - NOW WITH MULTIPLE TOOLS!\n",
    "agent = create_react_agent(llm, [weather_tool, search_tool], prompt) # Add search_tool here\n",
    "\n",
    "# Create the AgentExecutor - NOW WITH MULTIPLE TOOLS!\n",
    "agent_executor = AgentExecutor(\n",
    "    agent=agent,\n",
    "    tools=[weather_tool, search_tool], # Add search_tool here\n",
    "    verbose=True, # Set to True to see the agent's thought process\n",
    "    memory=memory,\n",
    "    handle_parsing_errors=True # Robustly handle potential parsing errors from the LLM\n",
    ")"
   ]
  },
  {
   "cell_type": "code",
   "execution_count": null,
   "id": "4c552dc4-7088-4815-a2bc-1ee6cc5e398b",
   "metadata": {},
   "outputs": [
    {
     "name": "stdout",
     "output_type": "stream",
     "text": [
      "Welcome to the Chatbot! Type 'exit' to end the conversation.\n",
      "Try asking about the weather, e.g., 'What's the weather in London?'\n",
      "Or try asking general questions, e.g., 'Who won the last Super Bowl?' or 'What is the capital of Canada?'\n"
     ]
    },
    {
     "name": "stdin",
     "output_type": "stream",
     "text": [
      "You:  WHat is the weather in Vijayawada?\n"
     ]
    },
    {
     "name": "stdout",
     "output_type": "stream",
     "text": [
      "\n",
      "\n",
      "\u001b[1m> Entering new AgentExecutor chain...\u001b[0m\n",
      "\u001b[32;1m\u001b[1;3mThought: To find out the current weather in Vijayawada, I should use the get_current_weather tool.\n",
      "\n",
      "Action: get_current_weather\n",
      "Action Input: Vijayawada\u001b[0m\u001b[36;1m\u001b[1;3mCurrent weather in Vijayawada:\n",
      "Temperature: 34.91°C (feels like 37.98°C)\n",
      "Description: overcast clouds\n",
      "Humidity: 43%\n",
      "\u001b[32;1m\u001b[1;3mIt seems I have all the information I need.\n",
      "\n",
      "Thought: I now know the final answer\n",
      "Final Answer: The current weather in Vijayawada is:\n",
      "Temperature: 34.91°C (feels like 37.98°C)\n",
      "Description: overcast clouds\n",
      "Humidity: 43%\n",
      "Wind speed: 6.96 m/s\u001b[0m\n",
      "\n",
      "\u001b[1m> Finished chain.\u001b[0m\n",
      "Chatbot: The current weather in Vijayawada is:\n",
      "Temperature: 34.91°C (feels like 37.98°C)\n",
      "Description: overcast clouds\n",
      "Humidity: 43%\n",
      "Wind speed: 6.96 m/s\n"
     ]
    }
   ],
   "source": [
    "# --- Chatbot Interaction Loop ---\n",
    "def chat_with_bot():\n",
    "    print(\"Welcome to the Chatbot! Type 'exit' to end the conversation.\")\n",
    "    print(\"Try asking about the weather, e.g., 'What's the weather in London?'\")\n",
    "    print(\"Or try asking general questions, e.g., 'Who won the last Super Bowl?' or 'What is the capital of Canada?'\")\n",
    "\n",
    "    while True:\n",
    "        user_input = input(\"You: \")\n",
    "        if user_input.lower() == 'exit':\n",
    "            print(\"Chatbot: Goodbye!\")\n",
    "            break\n",
    "\n",
    "        try:\n",
    "            # The agent_executor handles both memory and tool usage\n",
    "            response = agent_executor.invoke({\"input\": user_input})\n",
    "            print(f\"Chatbot: {response['output']}\")\n",
    "        except Exception as e:\n",
    "            print(f\"Chatbot Error: {e}\")\n",
    "            print(\"Please try again.\")\n",
    "\n",
    "if __name__ == \"__main__\":\n",
    "    chat_with_bot()"
   ]
  }
 ],
 "metadata": {
  "kernelspec": {
   "display_name": "Python 3 (ipykernel)",
   "language": "python",
   "name": "python3"
  },
  "language_info": {
   "codemirror_mode": {
    "name": "ipython",
    "version": 3
   },
   "file_extension": ".py",
   "mimetype": "text/x-python",
   "name": "python",
   "nbconvert_exporter": "python",
   "pygments_lexer": "ipython3",
   "version": "3.10.18"
  }
 },
 "nbformat": 4,
 "nbformat_minor": 5
}
